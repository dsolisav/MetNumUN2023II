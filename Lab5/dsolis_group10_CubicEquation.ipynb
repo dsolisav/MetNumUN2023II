{
  "nbformat": 4,
  "nbformat_minor": 0,
  "metadata": {
    "colab": {
      "provenance": [],
      "include_colab_link": true
    },
    "kernelspec": {
      "name": "python3",
      "display_name": "Python 3"
    },
    "language_info": {
      "name": "python"
    }
  },
  "cells": [
    {
      "cell_type": "markdown",
      "metadata": {
        "id": "view-in-github",
        "colab_type": "text"
      },
      "source": [
        "<a href=\"https://colab.research.google.com/github/dsolisav/MetNumUN2023II/blob/main/Lab5/dsolis_group10_CubicEquation.ipynb\" target=\"_parent\"><img src=\"https://colab.research.google.com/assets/colab-badge.svg\" alt=\"Open In Colab\"/></a>"
      ]
    },
    {
      "cell_type": "markdown",
      "source": [
        "Modify [week_1_quadratic_Po_Shen_Loh.ipyn](https://colab.research.google.com/drive/15vXGB18_np6o0Rw8ZV4o08RTdCdDIdT0?usp=sharing) for\n",
        "\n",
        "$$ ax^3+bx^+cx +d = 0$$\n",
        "\n",
        "using Cubic equation – Cardano–Tartaglia formula- [wikipedia](https://en.wikipedia.org/wiki/Cubic_equation)\n",
        "\n",
        "Asuume $a=1$ then work wequations are of the form\n",
        "\n",
        "$$ x^3+bx^+cx +d = 0$$\n",
        "\n",
        "Including expalnataions. plots, solution code and test cases\n",
        "\n"
      ],
      "metadata": {
        "id": "q5PfhUy3iXZi"
      }
    },
    {
      "cell_type": "code",
      "source": [
        "import numpy as np\n",
        "import matplotlib.pyplot as plt\n",
        "\n",
        "def cubic(b,c,d,x):\n",
        "    \"\"\"Calulate the value of the  qubic equation, v = x**3 + bx**2 + c*x +d\n",
        "\n",
        "    Parameters\n",
        "    ----------\n",
        "    b, c,d  : float\n",
        "       Coefficients\n",
        "\n",
        "    Returns\n",
        "    -------\n",
        "    v : float \"\"\"\n",
        "\n",
        "    # ... enter your code here ...\n",
        "    v = x**3 + b*x**2 + c*x +d\n",
        "    return v\n",
        "\n",
        "\n",
        "y = cubic(2,3,-2,x)\n",
        "y2 = cubic(5,3,9,x)\n",
        "y3 = cubic(1,1,1,x)\n",
        "plt.plot(x, y, color=\"green\")\n",
        "plt.plot(x, y2, color=\"red\")\n",
        "plt.plot(x, y3, color=\"blue\")\n",
        "plt.show()"
      ],
      "metadata": {
        "id": "2etHLiNplRC_",
        "colab": {
          "base_uri": "https://localhost:8080/",
          "height": 430
        },
        "outputId": "b82be1a9-ba91-482a-cf2c-dc850c63a850"
      },
      "execution_count": 6,
      "outputs": [
        {
          "output_type": "display_data",
          "data": {
            "text/plain": [
              "<Figure size 640x480 with 1 Axes>"
            ],
            "image/png": "[encoded data removed]"
          },
          "metadata": {}
        }
      ]
    },
    {
      "cell_type": "code",
      "execution_count": 40,
      "metadata": {
        "id": "o99NfjpaiThf",
        "colab": {
          "base_uri": "https://localhost:8080/"
        },
        "outputId": "2eac9b55-1224-4e97-e59f-b2348652eda3"
      },
      "outputs": [
        {
          "output_type": "stream",
          "name": "stdout",
          "text": [
            "Roots: (-3.5566054301655274, (1.2783027150827637+1.207799206958435j), (1.2783027150827637-1.207799206958435j))\n"
          ]
        }
      ],
      "source": [
        "import math\n",
        "import numpy as np\n",
        "\n",
        "def solve_cubic(b, c, d):\n",
        "\n",
        "    \"\"\"Solve a cubic equation, x**3 + bx**2 + c*x +d = 0.\n",
        "\n",
        "    Parameters\n",
        "    ----------\n",
        "    b, c,d : float\n",
        "       Coefficients\n",
        "\n",
        "    Returns\n",
        "    -------\n",
        "    x1, x2,x3 : float or complex\n",
        "       Roots.  \"\"\"\n",
        "\n",
        "    # ... enter your code here ...\n",
        "\n",
        "    f = discriminantCase1(b, c)\n",
        "    g = discriminantCase2(b, c, d)\n",
        "    h = discriminantCase3(g, f)\n",
        "\n",
        "    if f == 0 and g == 0 and h == 0:\n",
        "        if d >= 0:\n",
        "            x = (d) ** (1 / 3.0) * -1\n",
        "        else:\n",
        "            x = (-d) ** (1 / 3.0)\n",
        "        return np.array([x, x, x])\n",
        "\n",
        "    elif h <= 0:\n",
        "\n",
        "        i = math.sqrt(((g ** 2.0) / 4.0) - h)\n",
        "        j = i ** (1 / 3.0)\n",
        "        k = math.acos(-(g / (2 * i)))\n",
        "        L = j * -1\n",
        "        M = math.cos(k / 3.0)\n",
        "        N = math.sqrt(3) * math.sin(k / 3.0)\n",
        "        P = (b / (3.0)) * -1\n",
        "\n",
        "        x1 = 2 * j * math.cos(k / 3.0) - (b / (3.0))\n",
        "        x2 = L * (M + N) + P\n",
        "        x3 = L * (M - N) + P\n",
        "\n",
        "        return np.array([x1, x2, x3])\n",
        "\n",
        "    elif h > 0:\n",
        "        R = -(g / 2.0) + math.sqrt(h)\n",
        "        if R >= 0:\n",
        "            S = R ** (1 / 3.0)\n",
        "        else:\n",
        "            S = (-R) ** (1 / 3.0) * -1\n",
        "        T = -(g / 2.0) - math.sqrt(h)\n",
        "        if T >= 0:\n",
        "            U = (T ** (1 / 3.0))\n",
        "        else:\n",
        "            U = ((-T) ** (1 / 3.0)) * -1\n",
        "\n",
        "        x1 = (S + U) - (b / (3.0))\n",
        "        x2 = -(S + U) / 2 - (b / (3.0)) + (S - U) * math.sqrt(3) * 0.5j\n",
        "        x3 = -(S + U) / 2 - (b / (3.0)) - (S - U) * math.sqrt(3) * 0.5j\n",
        "\n",
        "        return x1,x2,x3\n",
        "\n",
        "\n",
        "\n",
        "def discriminantCase1(b, c):\n",
        "    return ((3.0 * c) - ((b ** 2.0))) / 3.0\n",
        "\n",
        "\n",
        "def discriminantCase2(b, c, d):\n",
        "    return (((2.0 * (b ** 3.0))) - ((9.0 * b * c)) + (27.0 * d)) /27.0\n",
        "\n",
        "\n",
        "def discriminantCase3(g, f):\n",
        "    return ((g ** 2.0) / 4.0 + (f ** 3.0) / 27.0)\n",
        "\n",
        "\n",
        "b = 1.0\n",
        "c = -6.0\n",
        "d = 11.0\n",
        "roots = solve_cubic(b, c, d)\n",
        "print(\"Roots:\", roots)"
      ]
    },
    {
      "cell_type": "markdown",
      "source": [
        "Bulit test cases that include\n",
        "\n",
        "$$x^3 =1,$$\n",
        "\n",
        "$$(x-1)^3 = x^3 - 3 x^2 + 3 x - 1,$$\n",
        "\n",
        "$$(x-1)(x-i)(x+i) = x^3 - x^2 + x - 1, $$\n",
        "three real diferent roots,  roots in the last digits of the group members, root of mtiuplicity two, and complex roots with small and large $b$.\n",
        "\n",
        "**Last digits:**"
      ],
      "metadata": {
        "id": "BpvJhj5Zl2lI"
      }
    },
    {
      "cell_type": "code",
      "source": [
        "from numpy import allclose\n",
        "\n",
        "variants = [{'b': 0.0, 'c': 0.0, 'd': 0.0},\n",
        "            {'b': -3.0, 'c': 3.0, 'd':-1.0},\n",
        "            {'b': -1.0, 'c': 1.0,  'd':-1.0},]\n",
        "\n",
        "for var in variants:\n",
        "    x1, x2, x3= solve_cubic(**var)\n",
        "    print(allclose(cubic(var['b'],var['c'],var['d'],x1), 0.0) and allclose(cubic(var['b'],var['c'],var['d'],x2), 0.0) and  allclose(cubic(var['b'],var['c'],var['d'],x3), 0.0))"
      ],
      "metadata": {
        "id": "8fjriYmkmHOw",
        "colab": {
          "base_uri": "https://localhost:8080/"
        },
        "outputId": "378802ff-7f08-4b6f-a4e2-c800a2fc2f69"
      },
      "execution_count": 41,
      "outputs": [
        {
          "output_type": "stream",
          "name": "stdout",
          "text": [
            "True\n",
            "True\n",
            "True\n"
          ]
        }
      ]
    },
    {
      "cell_type": "markdown",
      "source": [
        " Publisth the notebook in as **pperezp_groupN_CubicEquation.ipynb** at **MetNumUN2023II/Lab5** and submit only the code of **solve_cubic(b, c,d)** in UNcode Quiz Cubic Equation."
      ],
      "metadata": {
        "id": "0s01RrfqmE_f"
      }
    }
  ]
}